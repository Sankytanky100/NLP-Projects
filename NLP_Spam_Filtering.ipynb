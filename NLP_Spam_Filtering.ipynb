{
  "nbformat": 4,
  "nbformat_minor": 0,
  "metadata": {
    "colab": {
      "provenance": [],
      "authorship_tag": "ABX9TyPde1p8YfbeAEszkgjIXL2E",
      "include_colab_link": true
    },
    "kernelspec": {
      "name": "python3",
      "display_name": "Python 3"
    },
    "language_info": {
      "name": "python"
    }
  },
  "cells": [
    {
      "cell_type": "markdown",
      "metadata": {
        "id": "view-in-github",
        "colab_type": "text"
      },
      "source": [
        "<a href=\"https://colab.research.google.com/github/Sankytanky100/NLP-Projects/blob/main/NLP_Spam_Filtering.ipynb\" target=\"_parent\"><img src=\"https://colab.research.google.com/assets/colab-badge.svg\" alt=\"Open In Colab\"/></a>"
      ]
    },
    {
      "cell_type": "code",
      "execution_count": null,
      "metadata": {
        "id": "8tQ9kCwCTGri"
      },
      "outputs": [],
      "source": [
        "from spam_data import training_spam_docs, training_doc_tokens, training_labels\n",
        "from sklearn.naive_bayes import MultinomialNB\n",
        "from preprocessing import preprocess_text\n",
        "\n",
        "\n"
      ]
    },
    {
      "cell_type": "code",
      "source": [
        "# Add your email text to test_text between the triple quotes:\n",
        "\n",
        "test_text = \"\"\"\n",
        "Add your email text here.\n",
        "\"\"\"\n",
        "test_tokens = preprocess_text(test_text)\n"
      ],
      "metadata": {
        "id": "xtbErf3KTTKd"
      },
      "execution_count": null,
      "outputs": []
    },
    {
      "cell_type": "code",
      "source": [
        "def create_features_dictionary(document_tokens):\n",
        "features_dictionary = {}\n",
        "index = 0\n",
        "for token in document_tokens:\n",
        "if token not in features_dictionary:\n",
        "features_dictionary[token] = index\n",
        "index += 1\n",
        "return features_dictionary\n",
        "\n",
        "def tokens_to_bow_vector(document_tokens, features_dictionary):\n",
        "bow_vector = [0] * len(features_dictionary)\n",
        "for token in document_tokens:\n",
        "if token in features_dictionary:\n",
        "feature_index = features_dictionary[token]\n",
        "bow_vector[feature_index] += 1\n",
        "return bow_vector\n",
        "\n",
        "bow_sms_dictionary = create_features_dictionary(training_doc_tokens)\n",
        "training_vectors = [tokens_to_bow_vector(training_doc, bow_sms_dictionary) for training_doc in training_spam_docs]\n",
        "test_vectors = [tokens_to_bow_vector(test_tokens, bow_sms_dictionary)]\n",
        "\n",
        "spam_classifier = MultinomialNB()\n",
        "spam_classifier.fit(training_vectors, training_labels)\n",
        "\n",
        "predictions = spam_classifier.predict(test_vectors)\n",
        "\n",
        "print(\"Looks like a normal email!\" if predictions[0] == 0 else \"You've got spam!\")"
      ],
      "metadata": {
        "id": "k7PvR2YNTQIw"
      },
      "execution_count": null,
      "outputs": []
    }
  ]
}